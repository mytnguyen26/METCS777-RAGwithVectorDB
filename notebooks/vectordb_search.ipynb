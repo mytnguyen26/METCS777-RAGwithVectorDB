{
 "cells": [
  {
   "cell_type": "code",
   "execution_count": 7,
   "metadata": {},
   "outputs": [],
   "source": [
    "from typing import List\n",
    "from langchain_community.embeddings.fastembed import FastEmbedEmbeddings\n",
    "from langchain_community.vectorstores import Weaviate\n",
    "from weaviate import Client"
   ]
  },
  {
   "cell_type": "code",
   "execution_count": 8,
   "metadata": {},
   "outputs": [
    {
     "name": "stderr",
     "output_type": "stream",
     "text": [
      "Fetching 9 files: 100%|██████████| 9/9 [00:00<00:00, 71358.67it/s]\n"
     ]
    }
   ],
   "source": [
    "embeddings = FastEmbedEmbeddings(model_name=\"BAAI/bge-small-en-v1.5\") # which is also default"
   ]
  },
  {
   "cell_type": "code",
   "execution_count": 30,
   "metadata": {},
   "outputs": [
    {
     "name": "stderr",
     "output_type": "stream",
     "text": [
      "/Users/mynguyen/Repos/METCS777-VectorDB/.venv/lib/python3.10/site-packages/weaviate/warnings.py:158: DeprecationWarning: Dep016: You are using the Weaviate v3 client, which is deprecated.\n",
      "            Consider upgrading to the new and improved v4 client instead!\n",
      "            See here for usage: https://weaviate.io/developers/weaviate/client-libraries/python\n",
      "            \n",
      "  warnings.warn(\n"
     ]
    },
    {
     "data": {
      "text/plain": [
       "<weaviate.batch.crud_batch.Batch at 0x12f06ad10>"
      ]
     },
     "execution_count": 30,
     "metadata": {},
     "output_type": "execute_result"
    }
   ],
   "source": [
    "## init client\n",
    "client = Client(url=\"http://localhost:8080\")\n",
    "client.batch.configure(batch_size=25)"
   ]
  },
  {
   "cell_type": "code",
   "execution_count": 10,
   "metadata": {},
   "outputs": [
    {
     "data": {
      "text/plain": [
       "{'classes': [{'class': 'Document',\n",
       "   'description': 'This is a class to store Document chunks',\n",
       "   'invertedIndexConfig': {'bm25': {'b': 0.75, 'k1': 1.2},\n",
       "    'cleanupIntervalSeconds': 60,\n",
       "    'stopwords': {'additions': None, 'preset': 'en', 'removals': None}},\n",
       "   'multiTenancyConfig': {'enabled': False},\n",
       "   'properties': [{'dataType': ['text'],\n",
       "     'description': 'Chunk of document content',\n",
       "     'indexFilterable': False,\n",
       "     'indexSearchable': False,\n",
       "     'name': 'text',\n",
       "     'tokenization': 'word'},\n",
       "    {'dataType': ['text'],\n",
       "     'description': 'topic of this document',\n",
       "     'indexFilterable': True,\n",
       "     'indexSearchable': False,\n",
       "     'name': 'topic',\n",
       "     'tokenization': 'word'},\n",
       "    {'dataType': ['text'],\n",
       "     'description': 'title of this document',\n",
       "     'indexFilterable': False,\n",
       "     'indexSearchable': True,\n",
       "     'name': 'doc_name',\n",
       "     'tokenization': 'word'},\n",
       "    {'dataType': ['text'],\n",
       "     'description': 'location of this document',\n",
       "     'indexFilterable': False,\n",
       "     'indexSearchable': False,\n",
       "     'name': 'source',\n",
       "     'tokenization': 'word'}],\n",
       "   'replicationConfig': {'factor': 1},\n",
       "   'shardingConfig': {'virtualPerPhysical': 128,\n",
       "    'desiredCount': 1,\n",
       "    'actualCount': 1,\n",
       "    'desiredVirtualCount': 128,\n",
       "    'actualVirtualCount': 128,\n",
       "    'key': '_id',\n",
       "    'strategy': 'hash',\n",
       "    'function': 'murmur3'},\n",
       "   'vectorIndexConfig': {'skip': False,\n",
       "    'cleanupIntervalSeconds': 300,\n",
       "    'maxConnections': 64,\n",
       "    'efConstruction': 128,\n",
       "    'ef': -1,\n",
       "    'dynamicEfMin': 100,\n",
       "    'dynamicEfMax': 500,\n",
       "    'dynamicEfFactor': 8,\n",
       "    'vectorCacheMaxObjects': 1000000000000,\n",
       "    'flatSearchCutoff': 40000,\n",
       "    'distance': 'cosine',\n",
       "    'pq': {'enabled': False,\n",
       "     'bitCompression': False,\n",
       "     'segments': 0,\n",
       "     'centroids': 256,\n",
       "     'trainingLimit': 100000,\n",
       "     'encoder': {'type': 'kmeans', 'distribution': 'log-normal'}},\n",
       "    'bq': {'enabled': False}},\n",
       "   'vectorIndexType': 'hnsw',\n",
       "   'vectorizer': 'none'}]}"
      ]
     },
     "execution_count": 10,
     "metadata": {},
     "output_type": "execute_result"
    }
   ],
   "source": [
    "client.schema.get()"
   ]
  },
  {
   "cell_type": "code",
   "execution_count": 157,
   "metadata": {},
   "outputs": [],
   "source": [
    "def semantic_search_with_filter(client, query_embedding, filter_value, top_k=3):\n",
    "    response = (\n",
    "        client.query\n",
    "        .get(\"Document\", [\"text\", \"topic\", \"source\"])\n",
    "        .with_near_vector({\"vector\": query_embedding})    # the user input query_embedding. If we want to specify our own embedding model without using Weaviate's module, we must use this\n",
    "        .with_where({                                       # the filter on inverted index\n",
    "            \"path\": [\"topic\"],\n",
    "            \"operator\": \"Equal\",\n",
    "            \"valueText\": filter_value\n",
    "        })\n",
    "        .with_additional([\"score\", \"explainScore\", \"distance\"])\n",
    "        .with_limit(top_k)\n",
    "        .do()\n",
    "    )\n",
    "    return response"
   ]
  },
  {
   "cell_type": "code",
   "execution_count": 158,
   "metadata": {},
   "outputs": [],
   "source": [
    "response = semantic_search_with_filter(client, embeddings.embed_query(\"Who is Furina\"), \"characters\")"
   ]
  },
  {
   "cell_type": "code",
   "execution_count": 159,
   "metadata": {},
   "outputs": [
    {
     "name": "stdout",
     "output_type": "stream",
     "text": [
      "{\n",
      "    \"data\": {\n",
      "        \"Get\": {\n",
      "            \"Document\": [\n",
      "                {\n",
      "                    \"_additional\": {\n",
      "                        \"distance\": 0.24088764,\n",
      "                        \"explainScore\": \"\",\n",
      "                        \"score\": \"0\"\n",
      "                    },\n",
      "                    \"source\": \"../data/characters/Furina.txt\",\n",
      "                    \"text\": \"Furina Furina de Fontaine[1][2] is a playable Hydro character in Genshin Impact who can alternate between Pneuma and Ousia alignments.\",\n",
      "                    \"topic\": \"characters\"\n",
      "                },\n",
      "                {\n",
      "                    \"_additional\": {\n",
      "                        \"distance\": 0.24376959,\n",
      "                        \"explainScore\": \"\",\n",
      "                        \"score\": \"0\"\n",
      "                    },\n",
      "                    \"source\": \"../data/characters/Furina.txt\",\n",
      "                    \"text\": \"Appearance See also: Coronated Prima Donna Furina is a fair-skinned girl who uses the medium female model. Her eyes are heterochromatic in shades of blue. She has soft white hair with light blue streaks. Arkhe alignments cause changes in Furina's features.\",\n",
      "                    \"topic\": \"characters\"\n",
      "                },\n",
      "                {\n",
      "                    \"_additional\": {\n",
      "                        \"distance\": 0.2786951,\n",
      "                        \"explainScore\": \"\",\n",
      "                        \"score\": \"0\"\n",
      "                    },\n",
      "                    \"source\": \"../data/characters/Furina.txt\",\n",
      "                    \"text\": \"\\u2014In-game character attributes and profile page text Flamboyant and imprudent, Furina lives for the thrill of the courtroom, often speaking in a manner peppered with bravado and drama. She is impatient and has a childlike temper, and she will occasionally make judgments that she doesn't mean, which Neuvillette frequently has to control while conducting a trial to avoid complications. While she enjoys being in the spotlight, she only does so when it is focused at her positively, breaking down in complete shambles should something go out of plan and will try to save face at the first possible opportunity.\",\n",
      "                    \"topic\": \"characters\"\n",
      "                }\n",
      "            ]\n",
      "        }\n",
      "    }\n",
      "}\n"
     ]
    }
   ],
   "source": [
    "import json\n",
    "print(json.dumps(response, indent=4))"
   ]
  },
  {
   "cell_type": "code",
   "execution_count": 160,
   "metadata": {},
   "outputs": [],
   "source": [
    "response = semantic_search_with_filter(client, embeddings.embed_query(\"Who is Furina\"), \"region\")"
   ]
  },
  {
   "cell_type": "code",
   "execution_count": 161,
   "metadata": {},
   "outputs": [
    {
     "name": "stdout",
     "output_type": "stream",
     "text": [
      "{\n",
      "    \"data\": {\n",
      "        \"Get\": {\n",
      "            \"Document\": [\n",
      "                {\n",
      "                    \"_additional\": {\n",
      "                        \"distance\": 0.3319096,\n",
      "                        \"explainScore\": \"\",\n",
      "                        \"score\": \"0\"\n",
      "                    },\n",
      "                    \"source\": \"../data/region/Fontaine.txt\",\n",
      "                    \"text\": \"Furina's birthday is a public holiday in Fontaine; although no longer the ruling Hydro Archon, her birthday remains a holiday. [22]\",\n",
      "                    \"topic\": \"region\"\n",
      "                },\n",
      "                {\n",
      "                    \"_additional\": {\n",
      "                        \"distance\": 0.41404307,\n",
      "                        \"explainScore\": \"\",\n",
      "                        \"score\": \"0\"\n",
      "                    },\n",
      "                    \"source\": \"../data/region/Fontaine.txt\",\n",
      "                    \"text\": \"~499 years later, she was sentenced to death via the Oratrice, and has willingly given up her full authority as the Hydro Archon to the Hydro Dragon Sovereign, thus clears the people of Fontaine from their 'Original Sin', and making them - including Furina - fully human. As the result, the Hydro Archon throne is destroyed - hence there will be no further Hydro Archons and the Oratrice is no longer can be used - and the people of Fontaine can no longer can dissolved by the Primordial Sea water. Due to the extreme exhaustion and stress she endured for the last 499 years, Furina leaves the Palais Mermonia and Opera Epiclese, where she settles down in an apartment. [25] ? years ago Karl, Rene, and Jakob explore the Khaenri'ahn ruins in Vourukasha Oasis and Madinat al-Nuhas, guided by the Order of Skeptics. During the trip, Jakob's weak constitution caused his health to deteriorate. Unbeknownst to Karl, Rene went behind his back and used Abyssal power to save Jakob. During this trip, they also deduce the \\\"world-formula\\\" from the records they found in the ruins, predicting a second flood period which would destroy Fontaine in the next few centuries. Jakob and Rene return to Fontaine and soon discover Elynas' remains. They begin conducting secret experiments on the remains, namely by having Jakob absorb Elynas' blood. After some time, he became able to survive without eating by subsisting mainly on Elynas' flesh.\",\n",
      "                    \"topic\": \"region\"\n",
      "                },\n",
      "                {\n",
      "                    \"_additional\": {\n",
      "                        \"distance\": 0.42401558,\n",
      "                        \"explainScore\": \"\",\n",
      "                        \"score\": \"0\"\n",
      "                    },\n",
      "                    \"source\": \"../data/region/Fontaine.txt\",\n",
      "                    \"text\": \"The Fontinalia Festival is a festival to commemorate the Lochknights' search for the Oceanids and welcoming of Egeria to Fontaine as its Hydro Archon. The Fontinalia Film Festival, which was added to the festivities, was organized by the Fontaine Film Association to introduce the art of cinematography to the public. People may submit films to be evaluated, and the entry with the highest score will be given the \\\"Furina Award\\\" by the Fontaine Film Association, although nobody changed the award's name following the events of Masquerade of the Guilty. [21]\",\n",
      "                    \"topic\": \"region\"\n",
      "                }\n",
      "            ]\n",
      "        }\n",
      "    }\n",
      "}\n"
     ]
    }
   ],
   "source": [
    "print(json.dumps(response, indent=4))"
   ]
  },
  {
   "cell_type": "code",
   "execution_count": 165,
   "metadata": {},
   "outputs": [],
   "source": [
    "del client"
   ]
  }
 ],
 "metadata": {
  "kernelspec": {
   "display_name": ".venv",
   "language": "python",
   "name": "python3"
  },
  "language_info": {
   "codemirror_mode": {
    "name": "ipython",
    "version": 3
   },
   "file_extension": ".py",
   "mimetype": "text/x-python",
   "name": "python",
   "nbconvert_exporter": "python",
   "pygments_lexer": "ipython3",
   "version": "3.10.8"
  }
 },
 "nbformat": 4,
 "nbformat_minor": 2
}
